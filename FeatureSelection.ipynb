{
 "cells": [
  {
   "cell_type": "markdown",
   "metadata": {},
   "source": [
    "# **[:+:] Feature Selection + Nearest Neighbor [:+:]**"
   ]
  },
  {
   "cell_type": "code",
   "execution_count": 54,
   "metadata": {},
   "outputs": [],
   "source": [
    "import pandas as pd\n",
    "import numpy as np\n",
    "import matplotlib.pyplot as plt\n",
    "#import seaborn as seab\n",
    "from itertools import chain, combinations\n",
    "#from scipy.spatial import minkowski_distance\n",
    "from numba import jit, cuda\n",
    "import numpy as np\n",
    "from timeit import default_timer as timer\n",
    "\n",
    "# - [x] Find \"default Rate\" : size(most common class)/size(dataset)\n",
    "# - [x] Create Minkowski Distance function for two points\n",
    "# - [x] Find nn of a single data point using only one feature\n",
    "# - [] Get rid of spurrious percision\n",
    "# - [x] For small data, find nn of every data point using one feature + max accuracy\n",
    "# - [x] For small data, find nn of every data point using all features + max accuracy\n",
    "# - [x] Complete Forward selection for small datas set\n",
    "# - [] Complete Backward Elimination for small data set\n",
    "# - [] Multithreading\n",
    "# - [] GPU Multithreading\n",
    "# - [x]] Leave-One-Out Cross Validation\n",
    "# - [] Data Viz\n",
    "# - [] Report\n",
    "# - [] Find more brown m&ms\n",
    "# - [] Clean up the code"
   ]
  },
  {
   "cell_type": "markdown",
   "metadata": {},
   "source": [
    "### **[+] Reading the Data**"
   ]
  },
  {
   "cell_type": "code",
   "execution_count": 55,
   "metadata": {},
   "outputs": [
    {
     "name": "stdout",
     "output_type": "stream",
     "text": [
      "The first 4 entries of the first column: data[colIdx][rowIdx]:\n",
      "0    2.0\n",
      "1    1.0\n",
      "2    2.0\n",
      "3    2.0\n",
      "4    2.0\n",
      "Name: 0, dtype: float64\n",
      "Matrix Dimensions:\n",
      "(500, 7)\n",
      "Data Head:\n",
      "     0         1         2         3         4         5         6\n",
      "0  2.0 -1.101866 -0.782026  0.552502  0.454685  1.132363  1.135458\n",
      "1  1.0  0.928979 -0.169694  1.465293 -1.591929  0.144808  0.162709\n",
      "2  2.0  1.123118 -1.384730 -0.903598  0.692522  0.669263 -0.142156\n",
      "3  2.0  0.816617 -0.043628  1.026966  0.231013 -0.006551  2.316509\n",
      "4  2.0 -1.159129 -1.341375  0.459997  0.631261 -1.479455  0.520158\n",
      "MetaData: \n",
      "Occurrence counts of classes:\n"
     ]
    },
    {
     "data": {
      "text/plain": [
       "0\n",
       "1.0     95\n",
       "2.0    405\n",
       "dtype: int64"
      ]
     },
     "metadata": {},
     "output_type": "display_data"
    },
    {
     "name": "stdout",
     "output_type": "stream",
     "text": [
      "Default Rate:\n",
      "0.81\n",
      "\n",
      "Convert to numpy array to enable multithreading later:\n",
      "column size after conversion: 7\n",
      "column size after transposition: 500\n",
      "Dimensions after transposition: (7, 500)\n"
     ]
    }
   ],
   "source": [
    "#Read data from the text files and set as a pandas data frame\n",
    "lilData = pd.read_csv('CS170_Small_Data__19.txt', sep=\"  \", engine='python', header=None)\n",
    "miniData = pd.read_csv('CS170_Smallified_Data__19.txt', sep=\"  \", engine='python', header=None)\n",
    "\n",
    "#print all the data:\n",
    "#print(lilData)\n",
    "\n",
    "\n",
    "#----print just the 'label' column (and indeces):\n",
    "print(\"The first 4 entries of the first column: data[colIdx][rowIdx]:\")\n",
    "print(lilData[0][0:5])\n",
    "\n",
    "\n",
    "print(\"Matrix Dimensions:\")\n",
    "lil_rowXcol= lilData.shape\n",
    "print(lil_rowXcol)\n",
    "\n",
    "\n",
    "print(\"Data Head:\")\n",
    "print(lilData.head())\n",
    "\n",
    "print(\"MetaData: \")\n",
    "lilData.describe()\n",
    "\n",
    "\n",
    "\n",
    "print('Occurrence counts of classes:')\n",
    "# count occurrences of the class column\n",
    "occur = lilData.groupby([0]).size()\n",
    "# display occurrences of a particular column\n",
    "display(occur)\n",
    "lilDefaultRate= 405/500\n",
    "print(\"Default Rate:\")\n",
    "print(lilDefaultRate)\n",
    "\n",
    "\n",
    "print(\"\\nConvert to numpy array to enable multithreading later:\")\n",
    "lilData= lilData.to_numpy()\n",
    "print(\"column size after conversion: \" + str(len(lilData[0])))\n",
    "lilData= lilData.transpose()\n",
    "print(\"column size after transposition: \" + str(len(lilData[0])))\n",
    "print(\"Dimensions after transposition: \" + str(lilData.shape))\n",
    "\n"
   ]
  },
  {
   "cell_type": "markdown",
   "metadata": {},
   "source": [
    "### **[+] Minkowski Distance Calculation**"
   ]
  },
  {
   "cell_type": "code",
   "execution_count": 56,
   "metadata": {},
   "outputs": [],
   "source": [
    "#My (from-scratch)Function takes in indices of two data points and exponent p, returns the minkowski distance between them based on the four dimensions and the exponent\n",
    "# @jit(target_backend='cuda')\n",
    "def minkowski(data,rowIdx1,rowIdx2,ftSet,p):\n",
    "    # featSet1= []\n",
    "    # featSet2= []\n",
    "    sigma= 0\n",
    "    for ft in ftSet:\n",
    "        # featSet1.append(data[ft][rowIdx1])\n",
    "        # featSet2.append(data[ft][rowIdx2])\n",
    "        sigma+= ((((data[ft][rowIdx1]-data[ft][rowIdx2])**2))**(1/2))  **(p)\n",
    "        distance= sigma**(1/p)\n",
    "    return distance\n",
    "    # return distance, featSet1, featSet2\n",
    "\n",
    "# d= minkowski(lilData, rowIdx1=1, rowIdx2= 2, ftSet=(1,2,3,4,5,6), p=2)\n",
    "# print(d)\n",
    "# minkowski_distance(d[1],d[2],p=2)"
   ]
  },
  {
   "cell_type": "markdown",
   "metadata": {},
   "source": [
    "## **[:+:] Forward Selection**"
   ]
  },
  {
   "cell_type": "code",
   "execution_count": 57,
   "metadata": {},
   "outputs": [
    {
     "name": "stdout",
     "output_type": "stream",
     "text": [
      "[::] -- Forward Selection Search Tree Level 1 -- [::]\n",
      "        - Testing without features  | Default Rate: %81.0\n",
      "        - Testing with features [1] | Accuracy: %57.143\n",
      "        - Testing with features [2] | Accuracy: %71.429\n",
      "        - Testing with features [3] | Accuracy: %71.429\n",
      "        - Testing with features [4] | Accuracy: %71.429\n",
      "        - Testing with features [5] | Accuracy: %71.429\n",
      "        - Testing with features [6] | Accuracy: %71.429\n"
     ]
    },
    {
     "ename": "IndexError",
     "evalue": "index 7 is out of bounds for axis 0 with size 7",
     "output_type": "error",
     "traceback": [
      "\u001b[1;31m---------------------------------------------------------------------------\u001b[0m",
      "\u001b[1;31mIndexError\u001b[0m                                Traceback (most recent call last)",
      "\u001b[1;32mc:\\Users\\richa\\OneDrive\\CS170\\Project2\\Feature Selection with Nearest Neighbor\\FeatureSelection.ipynb Cell 8\u001b[0m in \u001b[0;36m<module>\u001b[1;34m\u001b[0m\n\u001b[0;32m     <a href='vscode-notebook-cell:/c%3A/Users/richa/OneDrive/CS170/Project2/Feature%20Selection%20with%20Nearest%20Neighbor/FeatureSelection.ipynb#X10sZmlsZQ%3D%3D?line=81'>82</a>\u001b[0m     \u001b[39mreturn\u001b[39;00m bestFtSet\n\u001b[0;32m     <a href='vscode-notebook-cell:/c%3A/Users/richa/OneDrive/CS170/Project2/Feature%20Selection%20with%20Nearest%20Neighbor/FeatureSelection.ipynb#X10sZmlsZQ%3D%3D?line=87'>88</a>\u001b[0m \u001b[39m# start = timer()\u001b[39;00m\n\u001b[1;32m---> <a href='vscode-notebook-cell:/c%3A/Users/richa/OneDrive/CS170/Project2/Feature%20Selection%20with%20Nearest%20Neighbor/FeatureSelection.ipynb#X10sZmlsZQ%3D%3D?line=88'>89</a>\u001b[0m \u001b[39mprint\u001b[39m(forwardSelection(lilData))\n",
      "\u001b[1;32mc:\\Users\\richa\\OneDrive\\CS170\\Project2\\Feature Selection with Nearest Neighbor\\FeatureSelection.ipynb Cell 8\u001b[0m in \u001b[0;36mforwardSelection\u001b[1;34m(data, prevFtSet, finalAccuracy, finalSet)\u001b[0m\n\u001b[0;32m     <a href='vscode-notebook-cell:/c%3A/Users/richa/OneDrive/CS170/Project2/Feature%20Selection%20with%20Nearest%20Neighbor/FeatureSelection.ipynb#X10sZmlsZQ%3D%3D?line=69'>70</a>\u001b[0m \u001b[39mif\u001b[39;00m ft \u001b[39mnot\u001b[39;00m \u001b[39min\u001b[39;00m prevFtSet:\n\u001b[0;32m     <a href='vscode-notebook-cell:/c%3A/Users/richa/OneDrive/CS170/Project2/Feature%20Selection%20with%20Nearest%20Neighbor/FeatureSelection.ipynb#X10sZmlsZQ%3D%3D?line=70'>71</a>\u001b[0m     ftSet\u001b[39m=\u001b[39m prevFtSet \u001b[39m+\u001b[39m [ft]\n\u001b[1;32m---> <a href='vscode-notebook-cell:/c%3A/Users/richa/OneDrive/CS170/Project2/Feature%20Selection%20with%20Nearest%20Neighbor/FeatureSelection.ipynb#X10sZmlsZQ%3D%3D?line=71'>72</a>\u001b[0m     ftAccuracy\u001b[39m=\u001b[39m crossValidate(data,ftCombos\u001b[39m=\u001b[39;49m ftSet)\n\u001b[0;32m     <a href='vscode-notebook-cell:/c%3A/Users/richa/OneDrive/CS170/Project2/Feature%20Selection%20with%20Nearest%20Neighbor/FeatureSelection.ipynb#X10sZmlsZQ%3D%3D?line=72'>73</a>\u001b[0m     \u001b[39mprint\u001b[39m(\u001b[39m\"\u001b[39m\u001b[39m        - Testing with features \u001b[39m\u001b[39m\"\u001b[39m\u001b[39m+\u001b[39m \u001b[39mstr\u001b[39m(ftSet) \u001b[39m+\u001b[39m \u001b[39m\"\u001b[39m\u001b[39m | Accuracy: \u001b[39m\u001b[39m%\u001b[39m\u001b[39m\"\u001b[39m \u001b[39m+\u001b[39m \u001b[39mstr\u001b[39m(\u001b[39mround\u001b[39m(ftAccuracy\u001b[39m*\u001b[39m\u001b[39m100\u001b[39m,\u001b[39m3\u001b[39m)))\n\u001b[0;32m     <a href='vscode-notebook-cell:/c%3A/Users/richa/OneDrive/CS170/Project2/Feature%20Selection%20with%20Nearest%20Neighbor/FeatureSelection.ipynb#X10sZmlsZQ%3D%3D?line=73'>74</a>\u001b[0m     \u001b[39mif\u001b[39;00m ftAccuracy\u001b[39m>\u001b[39mbestAcc: \n",
      "\u001b[1;32mc:\\Users\\richa\\OneDrive\\CS170\\Project2\\Feature Selection with Nearest Neighbor\\FeatureSelection.ipynb Cell 8\u001b[0m in \u001b[0;36mcrossValidate\u001b[1;34m(data, ftCombos)\u001b[0m\n\u001b[0;32m     <a href='vscode-notebook-cell:/c%3A/Users/richa/OneDrive/CS170/Project2/Feature%20Selection%20with%20Nearest%20Neighbor/FeatureSelection.ipynb#X10sZmlsZQ%3D%3D?line=43'>44</a>\u001b[0m \u001b[39mdef\u001b[39;00m \u001b[39mcrossValidate\u001b[39m(data, ftCombos):\n\u001b[1;32m---> <a href='vscode-notebook-cell:/c%3A/Users/richa/OneDrive/CS170/Project2/Feature%20Selection%20with%20Nearest%20Neighbor/FeatureSelection.ipynb#X10sZmlsZQ%3D%3D?line=44'>45</a>\u001b[0m     classes\u001b[39m=\u001b[39m classifier(data, ftSet\u001b[39m=\u001b[39;49m ftCombos)\n\u001b[0;32m     <a href='vscode-notebook-cell:/c%3A/Users/richa/OneDrive/CS170/Project2/Feature%20Selection%20with%20Nearest%20Neighbor/FeatureSelection.ipynb#X10sZmlsZQ%3D%3D?line=45'>46</a>\u001b[0m     classesL\u001b[39m=\u001b[39m \u001b[39mlen\u001b[39m(classes)\n\u001b[0;32m     <a href='vscode-notebook-cell:/c%3A/Users/richa/OneDrive/CS170/Project2/Feature%20Selection%20with%20Nearest%20Neighbor/FeatureSelection.ipynb#X10sZmlsZQ%3D%3D?line=46'>47</a>\u001b[0m     correct\u001b[39m=\u001b[39m \u001b[39m0\u001b[39m\n",
      "\u001b[1;32mc:\\Users\\richa\\OneDrive\\CS170\\Project2\\Feature Selection with Nearest Neighbor\\FeatureSelection.ipynb Cell 8\u001b[0m in \u001b[0;36mclassifier\u001b[1;34m(data, ftSet)\u001b[0m\n\u001b[0;32m     <a href='vscode-notebook-cell:/c%3A/Users/richa/OneDrive/CS170/Project2/Feature%20Selection%20with%20Nearest%20Neighbor/FeatureSelection.ipynb#X10sZmlsZQ%3D%3D?line=30'>31</a>\u001b[0m \u001b[39mfor\u001b[39;00m  neighborIdx \u001b[39min\u001b[39;00m \u001b[39mrange\u001b[39m(\u001b[39m0\u001b[39m,rows):\n\u001b[0;32m     <a href='vscode-notebook-cell:/c%3A/Users/richa/OneDrive/CS170/Project2/Feature%20Selection%20with%20Nearest%20Neighbor/FeatureSelection.ipynb#X10sZmlsZQ%3D%3D?line=31'>32</a>\u001b[0m     \u001b[39mif\u001b[39;00m dp \u001b[39m!=\u001b[39m neighborIdx:\n\u001b[1;32m---> <a href='vscode-notebook-cell:/c%3A/Users/richa/OneDrive/CS170/Project2/Feature%20Selection%20with%20Nearest%20Neighbor/FeatureSelection.ipynb#X10sZmlsZQ%3D%3D?line=32'>33</a>\u001b[0m         dist\u001b[39m=\u001b[39m minkowski(data, dp, neighborIdx, ftSet, p\u001b[39m=\u001b[39;49m\u001b[39m2\u001b[39;49m)\n\u001b[0;32m     <a href='vscode-notebook-cell:/c%3A/Users/richa/OneDrive/CS170/Project2/Feature%20Selection%20with%20Nearest%20Neighbor/FeatureSelection.ipynb#X10sZmlsZQ%3D%3D?line=33'>34</a>\u001b[0m         \u001b[39mif\u001b[39;00m dist \u001b[39m<\u001b[39m nearest:\n\u001b[0;32m     <a href='vscode-notebook-cell:/c%3A/Users/richa/OneDrive/CS170/Project2/Feature%20Selection%20with%20Nearest%20Neighbor/FeatureSelection.ipynb#X10sZmlsZQ%3D%3D?line=34'>35</a>\u001b[0m             nnIdx\u001b[39m=\u001b[39m neighborIdx\n",
      "\u001b[1;32mc:\\Users\\richa\\OneDrive\\CS170\\Project2\\Feature Selection with Nearest Neighbor\\FeatureSelection.ipynb Cell 8\u001b[0m in \u001b[0;36mminkowski\u001b[1;34m(data, rowIdx1, rowIdx2, ftSet, p)\u001b[0m\n\u001b[0;32m      <a href='vscode-notebook-cell:/c%3A/Users/richa/OneDrive/CS170/Project2/Feature%20Selection%20with%20Nearest%20Neighbor/FeatureSelection.ipynb#X10sZmlsZQ%3D%3D?line=5'>6</a>\u001b[0m sigma\u001b[39m=\u001b[39m \u001b[39m0\u001b[39m\n\u001b[0;32m      <a href='vscode-notebook-cell:/c%3A/Users/richa/OneDrive/CS170/Project2/Feature%20Selection%20with%20Nearest%20Neighbor/FeatureSelection.ipynb#X10sZmlsZQ%3D%3D?line=6'>7</a>\u001b[0m \u001b[39mfor\u001b[39;00m ft \u001b[39min\u001b[39;00m ftSet:\n\u001b[0;32m      <a href='vscode-notebook-cell:/c%3A/Users/richa/OneDrive/CS170/Project2/Feature%20Selection%20with%20Nearest%20Neighbor/FeatureSelection.ipynb#X10sZmlsZQ%3D%3D?line=7'>8</a>\u001b[0m     \u001b[39m# featSet1.append(data[ft][rowIdx1])\u001b[39;00m\n\u001b[0;32m      <a href='vscode-notebook-cell:/c%3A/Users/richa/OneDrive/CS170/Project2/Feature%20Selection%20with%20Nearest%20Neighbor/FeatureSelection.ipynb#X10sZmlsZQ%3D%3D?line=8'>9</a>\u001b[0m     \u001b[39m# featSet2.append(data[ft][rowIdx2])\u001b[39;00m\n\u001b[1;32m---> <a href='vscode-notebook-cell:/c%3A/Users/richa/OneDrive/CS170/Project2/Feature%20Selection%20with%20Nearest%20Neighbor/FeatureSelection.ipynb#X10sZmlsZQ%3D%3D?line=9'>10</a>\u001b[0m     sigma\u001b[39m+\u001b[39m\u001b[39m=\u001b[39m ((((data[ft][rowIdx1]\u001b[39m-\u001b[39mdata[ft][rowIdx2])\u001b[39m*\u001b[39m\u001b[39m*\u001b[39m\u001b[39m2\u001b[39m))\u001b[39m*\u001b[39m\u001b[39m*\u001b[39m(\u001b[39m1\u001b[39m\u001b[39m/\u001b[39m\u001b[39m2\u001b[39m))  \u001b[39m*\u001b[39m\u001b[39m*\u001b[39m(p)\n\u001b[0;32m     <a href='vscode-notebook-cell:/c%3A/Users/richa/OneDrive/CS170/Project2/Feature%20Selection%20with%20Nearest%20Neighbor/FeatureSelection.ipynb#X10sZmlsZQ%3D%3D?line=10'>11</a>\u001b[0m     distance\u001b[39m=\u001b[39m sigma\u001b[39m*\u001b[39m\u001b[39m*\u001b[39m(\u001b[39m1\u001b[39m\u001b[39m/\u001b[39mp)\n\u001b[0;32m     <a href='vscode-notebook-cell:/c%3A/Users/richa/OneDrive/CS170/Project2/Feature%20Selection%20with%20Nearest%20Neighbor/FeatureSelection.ipynb#X10sZmlsZQ%3D%3D?line=11'>12</a>\u001b[0m \u001b[39mreturn\u001b[39;00m distance\n",
      "\u001b[1;31mIndexError\u001b[0m: index 7 is out of bounds for axis 0 with size 7"
     ]
    }
   ],
   "source": [
    "# @jit(target_backend='cuda')\n",
    "def generateCombos(data):\n",
    "    features= []\n",
    "    ftRow= data.shape[0]\n",
    "    for i in range(1,ftRow):\n",
    "        features.append(i)\n",
    "    print(features)\n",
    "    return chain.from_iterable(combinations(features, r) for r in range(len(features) + 1))\n",
    "    \n",
    "\n",
    "# @jit(target_backend='cuda')\n",
    "def generateDefaultRate(data):\n",
    "    classCnt= [0,0]\n",
    "    for pt in data[0]:\n",
    "        if pt==1:\n",
    "            classCnt[0]+= 1\n",
    "        else:\n",
    "            classCnt[1]+= 1\n",
    "    defaultRate= max(classCnt)/(classCnt[0]+classCnt[1])\n",
    "    return defaultRate\n",
    "\n",
    "\n",
    "# takes a single combo of features, classifies each dp by its nearest neighbor, returns a list of classifications for every dp\n",
    "# @jit(target_backend='cuda')\n",
    "def classifier(data, ftSet):\n",
    "    rows= data.shape[1]\n",
    "    nearestNeighbors= []\n",
    "    for dp in range(0,rows):\n",
    "        nnIdx= 0\n",
    "        nearest= 10000\n",
    "        classification= 0\n",
    "        for  neighborIdx in range(0,rows):\n",
    "            if dp != neighborIdx:\n",
    "                dist= minkowski(data, dp, neighborIdx, ftSet, p=2)\n",
    "                if dist < nearest:\n",
    "                    nnIdx= neighborIdx\n",
    "                    nearest= dist\n",
    "        classification= data[0][nnIdx]\n",
    "        nearestNeighbors.append(classification)\n",
    "    return nearestNeighbors\n",
    "\n",
    "\n",
    "#  Returns the accuracy of the classifier tested with a combination of features (leave-one-out, k=n)\n",
    "# @jit(target_backend='cuda')\n",
    "def crossValidate(data, ftCombos):\n",
    "    classes= classifier(data, ftSet= ftCombos)\n",
    "    classesL= len(classes)\n",
    "    correct= 0\n",
    "    for j in range(0,classesL):\n",
    "        if classes[j] == data[0][j]:\n",
    "            correct+=1\n",
    "    accuracy = correct/classesL\n",
    "    return accuracy\n",
    "\n",
    "\n",
    "# @jit(target_backend='cuda')\n",
    "def forwardSelection(data, prevFtSet=[],finalAccuracy=0, finalSet=[]):\n",
    "    ftSetLen= len(prevFtSet)\n",
    "    ftRowLength= data.shape[0]\n",
    "    if ftSetLen>= ftRowLength-1:\n",
    "        bestFtSet= finalSet\n",
    "        print(\"[:+:] ---  Forward Selection Results: The best set of features is \" +str(bestFtSet)+ \", | Accuracy: %\" +str(round(finalAccuracy*100,3))+ \"  --- [:+:]\")\n",
    "    else:\n",
    "        print(\"[::] -- Forward Selection Search Tree Level \"+str(ftSetLen+1)+ \" -- [::]\" )\n",
    "        if ftSetLen==0:\n",
    "            print(\"        - Testing without features  | Default Rate: %\" + str(round(generateDefaultRate(data)*100,3)))\n",
    "        bestAcc= 0\n",
    "        bestFtSubset= []\n",
    "        for ft in range(1, ftRowLength):\n",
    "            ftSet= []\n",
    "            if ft not in prevFtSet:\n",
    "                ftSet= prevFtSet + [ft]\n",
    "                ftAccuracy= crossValidate(data,ftCombos= ftSet)\n",
    "                print(\"        - Testing with features \"+ str(ftSet) + \" | Accuracy: %\" + str(round(ftAccuracy*100,3)))\n",
    "                if ftAccuracy>bestAcc: \n",
    "                    bestAcc= ftAccuracy\n",
    "                    bestFtSubset= ftSet\n",
    "        if bestAcc>finalAccuracy:\n",
    "            finalSet= bestFtSubset\n",
    "            finalAccuracy= bestAcc\n",
    "        print(\"[+] -- On level \"+str(ftSetLen+1)+ \", we add feature subset \" + str(bestFtSubset)+\" with an accuracy of %\" + str(round(bestAcc*100,3))+ \"\\n\")\n",
    "        bestFtSet=  forwardSelection(data, bestFtSubset,finalAccuracy, finalSet)\n",
    "    return bestFtSet\n",
    "\n",
    "\n",
    "\n",
    "\n",
    "\n",
    "# start = timer()\n",
    "print(forwardSelection(lilData))\n",
    "# print(\"Time without GPU:\", timer()-start)\n",
    "\n"
   ]
  },
  {
   "cell_type": "markdown",
   "metadata": {},
   "source": [
    "# **[:+:] Notes**\n",
    "-   The best single feature is #5, with an accuracy of 0.856"
   ]
  },
  {
   "cell_type": "markdown",
   "metadata": {},
   "source": [
    "# Works Cited:\n",
    "\n",
    "\n",
    "-   https://www.analyticsvidhya.com/blog/2020/02/4-types-of-distance-metrics-in-machine-learning/\n",
    "\n",
    "-   https://www.geeksforgeeks.org/pandas-groupby-count-occurrences-in-column/\n",
    "-   https://www.codingem.com/python-how-to-get-all-combinations-of-a-list/\n",
    "-   https://www.geeksforgeeks.org/running-python-script-on-gpu/"
   ]
  }
 ],
 "metadata": {
  "kernelspec": {
   "display_name": "Python 3.9.7 ('base')",
   "language": "python",
   "name": "python3"
  },
  "language_info": {
   "codemirror_mode": {
    "name": "ipython",
    "version": 3
   },
   "file_extension": ".py",
   "mimetype": "text/x-python",
   "name": "python",
   "nbconvert_exporter": "python",
   "pygments_lexer": "ipython3",
   "version": "3.9.7"
  },
  "vscode": {
   "interpreter": {
    "hash": "d452713d07931529b46a6a4adbae9c48126cf3f4bc3a50be39ac3715dec6caaa"
   }
  }
 },
 "nbformat": 4,
 "nbformat_minor": 2
}
