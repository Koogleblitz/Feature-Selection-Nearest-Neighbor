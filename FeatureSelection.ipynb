{
 "cells": [
  {
   "cell_type": "markdown",
   "metadata": {},
   "source": [
    "# **Feature Selection + K-Fold Cross Validation With Nearest Neighbor Algorithm**"
   ]
  },
  {
   "cell_type": "code",
   "execution_count": 2,
   "metadata": {},
   "outputs": [],
   "source": [
    "import pandas as pd\n",
    "import numpy as np\n",
    "import matplotlib.pyplot as plt\n",
    "import seaborn as seab\n"
   ]
  },
  {
   "cell_type": "markdown",
   "metadata": {},
   "source": [
    "## [:+:] Reading the Data"
   ]
  },
  {
   "cell_type": "code",
   "execution_count": 3,
   "metadata": {},
   "outputs": [
    {
     "name": "stdout",
     "output_type": "stream",
     "text": [
      "The first 4 entries of the first column: data[colIdx][rowIdx]:\n",
      "0    2.0\n",
      "1    1.0\n",
      "2    2.0\n",
      "3    2.0\n",
      "4    2.0\n",
      "Name: 0, dtype: float64\n",
      "Matrix Dimensions:\n",
      "(500, 7)\n",
      "Data Head:\n",
      "     0         1         2         3         4         5         6\n",
      "0  2.0 -1.101866 -0.782026  0.552502  0.454685  1.132363  1.135458\n",
      "1  1.0  0.928979 -0.169694  1.465293 -1.591929  0.144808  0.162709\n",
      "2  2.0  1.123118 -1.384730 -0.903598  0.692522  0.669263 -0.142156\n",
      "3  2.0  0.816617 -0.043628  1.026966  0.231013 -0.006551  2.316509\n",
      "4  2.0 -1.159129 -1.341375  0.459997  0.631261 -1.479455  0.520158\n",
      "MetaData: \n"
     ]
    },
    {
     "data": {
      "text/html": [
       "<div>\n",
       "<style scoped>\n",
       "    .dataframe tbody tr th:only-of-type {\n",
       "        vertical-align: middle;\n",
       "    }\n",
       "\n",
       "    .dataframe tbody tr th {\n",
       "        vertical-align: top;\n",
       "    }\n",
       "\n",
       "    .dataframe thead th {\n",
       "        text-align: right;\n",
       "    }\n",
       "</style>\n",
       "<table border=\"1\" class=\"dataframe\">\n",
       "  <thead>\n",
       "    <tr style=\"text-align: right;\">\n",
       "      <th></th>\n",
       "      <th>0</th>\n",
       "      <th>1</th>\n",
       "      <th>2</th>\n",
       "      <th>3</th>\n",
       "      <th>4</th>\n",
       "      <th>5</th>\n",
       "      <th>6</th>\n",
       "    </tr>\n",
       "  </thead>\n",
       "  <tbody>\n",
       "    <tr>\n",
       "      <th>count</th>\n",
       "      <td>500.000000</td>\n",
       "      <td>500.000000</td>\n",
       "      <td>500.000000</td>\n",
       "      <td>500.000000</td>\n",
       "      <td>500.000000</td>\n",
       "      <td>500.000000</td>\n",
       "      <td>500.000000</td>\n",
       "    </tr>\n",
       "    <tr>\n",
       "      <th>mean</th>\n",
       "      <td>1.810000</td>\n",
       "      <td>-0.009153</td>\n",
       "      <td>-0.047969</td>\n",
       "      <td>0.128918</td>\n",
       "      <td>0.011137</td>\n",
       "      <td>-0.004393</td>\n",
       "      <td>-0.052208</td>\n",
       "    </tr>\n",
       "    <tr>\n",
       "      <th>std</th>\n",
       "      <td>0.392694</td>\n",
       "      <td>0.969701</td>\n",
       "      <td>1.026598</td>\n",
       "      <td>1.025174</td>\n",
       "      <td>1.007239</td>\n",
       "      <td>0.975316</td>\n",
       "      <td>1.002187</td>\n",
       "    </tr>\n",
       "    <tr>\n",
       "      <th>min</th>\n",
       "      <td>1.000000</td>\n",
       "      <td>-3.809997</td>\n",
       "      <td>-3.834165</td>\n",
       "      <td>-2.703169</td>\n",
       "      <td>-3.010268</td>\n",
       "      <td>-3.044360</td>\n",
       "      <td>-2.630627</td>\n",
       "    </tr>\n",
       "    <tr>\n",
       "      <th>25%</th>\n",
       "      <td>2.000000</td>\n",
       "      <td>-0.688709</td>\n",
       "      <td>-0.706323</td>\n",
       "      <td>-0.535685</td>\n",
       "      <td>-0.685131</td>\n",
       "      <td>-0.692830</td>\n",
       "      <td>-0.710679</td>\n",
       "    </tr>\n",
       "    <tr>\n",
       "      <th>50%</th>\n",
       "      <td>2.000000</td>\n",
       "      <td>-0.006327</td>\n",
       "      <td>-0.103258</td>\n",
       "      <td>0.151437</td>\n",
       "      <td>0.026208</td>\n",
       "      <td>0.034870</td>\n",
       "      <td>-0.051862</td>\n",
       "    </tr>\n",
       "    <tr>\n",
       "      <th>75%</th>\n",
       "      <td>2.000000</td>\n",
       "      <td>0.657904</td>\n",
       "      <td>0.670926</td>\n",
       "      <td>0.824396</td>\n",
       "      <td>0.673784</td>\n",
       "      <td>0.719694</td>\n",
       "      <td>0.632218</td>\n",
       "    </tr>\n",
       "    <tr>\n",
       "      <th>max</th>\n",
       "      <td>2.000000</td>\n",
       "      <td>3.482842</td>\n",
       "      <td>2.748994</td>\n",
       "      <td>3.207545</td>\n",
       "      <td>2.770778</td>\n",
       "      <td>2.981243</td>\n",
       "      <td>2.790655</td>\n",
       "    </tr>\n",
       "  </tbody>\n",
       "</table>\n",
       "</div>"
      ],
      "text/plain": [
       "                0           1           2           3           4           5  \\\n",
       "count  500.000000  500.000000  500.000000  500.000000  500.000000  500.000000   \n",
       "mean     1.810000   -0.009153   -0.047969    0.128918    0.011137   -0.004393   \n",
       "std      0.392694    0.969701    1.026598    1.025174    1.007239    0.975316   \n",
       "min      1.000000   -3.809997   -3.834165   -2.703169   -3.010268   -3.044360   \n",
       "25%      2.000000   -0.688709   -0.706323   -0.535685   -0.685131   -0.692830   \n",
       "50%      2.000000   -0.006327   -0.103258    0.151437    0.026208    0.034870   \n",
       "75%      2.000000    0.657904    0.670926    0.824396    0.673784    0.719694   \n",
       "max      2.000000    3.482842    2.748994    3.207545    2.770778    2.981243   \n",
       "\n",
       "                6  \n",
       "count  500.000000  \n",
       "mean    -0.052208  \n",
       "std      1.002187  \n",
       "min     -2.630627  \n",
       "25%     -0.710679  \n",
       "50%     -0.051862  \n",
       "75%      0.632218  \n",
       "max      2.790655  "
      ]
     },
     "execution_count": 3,
     "metadata": {},
     "output_type": "execute_result"
    }
   ],
   "source": [
    "data_names = ['sepal_length', 'sepal_width', 'petal_length', 'petal_width', 'label']\n",
    "\n",
    "#Read data from the text files and set as a pandas data frame\n",
    "lilData = pd.read_csv('CS170_Small_Data__19.txt', sep=\"  \", engine='python', header=None)\n",
    "\n",
    "#print all the data:\n",
    "#print(lilData)\n",
    "\n",
    "\n",
    "#----print just the 'label' column (and indeces):\n",
    "print(\"The first 4 entries of the first column: data[colIdx][rowIdx]:\")\n",
    "print(lilData[0][0:5])\n",
    "\n",
    "\n",
    "print(\"Matrix Dimensions:\")\n",
    "lil_rowXcol= lilData.shape\n",
    "print(lil_rowXcol)\n",
    "\n",
    "\n",
    "print(\"Data Head:\")\n",
    "print(lilData.head())\n",
    "\n",
    "print(\"MetaData: \")\n",
    "lilData.describe()\n"
   ]
  },
  {
   "cell_type": "markdown",
   "metadata": {},
   "source": [
    "## Euclidean Distance"
   ]
  },
  {
   "cell_type": "code",
   "execution_count": 23,
   "metadata": {},
   "outputs": [
    {
     "name": "stdout",
     "output_type": "stream",
     "text": [
      "[1.1231183, -1.3847302, -0.90359814, 0.69252208, 0.66926344, -0.14215561]\n"
     ]
    }
   ],
   "source": [
    "# - [ ] Find \"default Rate\" whatever that is\n",
    "#  - [ ] Create Minkowski Distance function for two points\n",
    "# #- [ ] Find nn of a single data point using only one feature\n",
    "# - [ ] Find nn of every data point using one feature + max accuracy\n",
    "# - [ ] Find nn of every data point using all features + max accuracy\n",
    "\n",
    "#My (from-scratch)Function takes in indices of two data points and exponent p, returns the minkowski distance between them based on the four dimensions and the exponent\n",
    "def minkowski(data,idx1,idx2,ftSet):\n",
    "    featureSet1= []\n",
    "    featureSet2= []\n",
    "    p= len(ftSet)\n",
    "    sigma= 0\n",
    "    for ft in ftSet:\n",
    "        featureSet1.append(data[ft][idx1])\n",
    "        featureSet2.append(data[ft][idx2])\n",
    "\n",
    "        sigma+= ((((data[ft][idx1]-data[ft][idx2])**2))**(1/2))  **(p)\n",
    "        distance= sigma**(1/p)\n",
    "    return featureSet2\n",
    "\n",
    "\n",
    "print(minkowski(lilData,1,2,(1,2,3,4,5,6)))\n"
   ]
  },
  {
   "cell_type": "code",
   "execution_count": 18,
   "metadata": {},
   "outputs": [
    {
     "name": "stdout",
     "output_type": "stream",
     "text": [
      "3.690449466261803\n"
     ]
    }
   ],
   "source": [
    "def numpyLP_Distance(data,idx1,idx2):\n",
    "    dataPoint1= lilData.loc[idx1][0:6]\n",
    "    dataPoint2= lilData.loc[idx2][0:6]\n",
    "    difference = dataPoint1 - dataPoint2\n",
    "    return  np.linalg.norm(difference)\n",
    "\n",
    "print(numpyLP_Distance(lilData,1, 2))"
   ]
  },
  {
   "cell_type": "markdown",
   "metadata": {},
   "source": [
    "# Works Cited:\n",
    "\n",
    "\n",
    "-   https://www.analyticsvidhya.com/blog/2020/02/4-types-of-distance-metrics-in-machine-learning/"
   ]
  }
 ],
 "metadata": {
  "kernelspec": {
   "display_name": "Python 3.9.7 ('base')",
   "language": "python",
   "name": "python3"
  },
  "language_info": {
   "codemirror_mode": {
    "name": "ipython",
    "version": 3
   },
   "file_extension": ".py",
   "mimetype": "text/x-python",
   "name": "python",
   "nbconvert_exporter": "python",
   "pygments_lexer": "ipython3",
   "version": "3.9.7"
  },
  "vscode": {
   "interpreter": {
    "hash": "d452713d07931529b46a6a4adbae9c48126cf3f4bc3a50be39ac3715dec6caaa"
   }
  }
 },
 "nbformat": 4,
 "nbformat_minor": 2
}
